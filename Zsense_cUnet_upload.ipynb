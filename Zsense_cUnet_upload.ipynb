{
 "cells": [
  {
   "cell_type": "markdown",
   "metadata": {},
   "source": [
    "Jupyter notebook using conditional U-Net for creating 2D inelastic diffraction patterns from 2D elastic diffraction patterns.<br>\n",
    "Written by Dasol Yoon, Desheng Ma, Hari KP, Schuyler Shi, and Zhaslan Baraissov from Cornell University<br>\n",
    "Last edited on December 17th, 2024"
   ]
  },
  {
   "cell_type": "code",
   "execution_count": 3,
   "metadata": {},
   "outputs": [],
   "source": [
    "import numpy as np\n",
    "import h5py\n",
    "import matplotlib.pyplot as plt\n",
    "from tqdm import tqdm\n",
    "\n",
    "import torch\n",
    "import torch.nn as nn\n",
    "import torch.nn.functional as F\n",
    "from torch.utils.data import DataLoader, Dataset, random_split\n",
    "import torch.optim as optim"
   ]
  },
  {
   "cell_type": "markdown",
   "metadata": {},
   "source": [
    "### import datasets"
   ]
  },
  {
   "cell_type": "code",
   "execution_count": 34,
   "metadata": {},
   "outputs": [],
   "source": [
    "#import datasets\n",
    "fpath = '/media/muller_group/dm852_ExPro/ZSense/shared_hackathon/'\n",
    "inputImg_dir = 'test/z2_29_26-x01.03-y01.05_noTDS_df0nm_conv30mrad_samp0p1A_step0p2A_thickness24uc.hdf5'\n",
    "outputImg_dir = 'test/z2_29_26-x01.03-y01.05_TDS64iso_df0nm_conv30mrad_samp0p1A_step0p2A_thickness24uc.hdf5'\n",
    "label_data = np.load(fpath+'test_Z_map/z2_29_26-x01.03-y01.05.npy')\n",
    "\n",
    "# # Load .npy file using numpy\n",
    "# inputImg_dir = \"/media/muller_group/dm852_ExPro/ZSense/shared_hackathon/test/z1_4_33-x01.04-y00.82_noTDS_df0nm_conv30mrad_samp0p1A_step0p2A_thickness24uc.hdf5\"\n",
    "# outputImg_dir = \"/media/muller_group/dm852_ExPro/ZSense/shared_hackathon/test/z1_4_33-x01.04-y00.82_TDS64iso_df0nm_conv30mrad_samp0p1A_step0p2A_thickness24uc.hdf5\"\n",
    "# label_data = np.load(\"/media/muller_group/dm852_ExPro/ZSense/shared_hackathon/test_Z_map/z1_4_33-x01.04-y00.82.npy\")\n"
   ]
  },
  {
   "cell_type": "code",
   "execution_count": 35,
   "metadata": {},
   "outputs": [],
   "source": [
    "dataNoTDS = h5py.File(fpath+inputImg_dir, 'r')\n",
    "input_data = dataNoTDS['array'][:]  # Shape (real1, real2, diff1, diff2)\n",
    "\n",
    "dataTDS = h5py.File(fpath+outputImg_dir, 'r')\n",
    "output_data = dataTDS['array'][:]"
   ]
  },
  {
   "cell_type": "code",
   "execution_count": 36,
   "metadata": {},
   "outputs": [],
   "source": [
    "def normalize(data):\n",
    "    return (data - np.min(data))/(np.max(data) - np.min(data))"
   ]
  },
  {
   "cell_type": "code",
   "execution_count": 37,
   "metadata": {},
   "outputs": [],
   "source": [
    "normInput = normalize(input_data)\n",
    "normOutput = normalize(output_data)"
   ]
  },
  {
   "cell_type": "code",
   "execution_count": 38,
   "metadata": {},
   "outputs": [
    {
     "name": "stdout",
     "output_type": "stream",
     "text": [
      "Input tensor shape: torch.Size([649, 64, 64])\n",
      "Output tensor shape: torch.Size([649, 64, 64])\n",
      "Label tensor shape: torch.Size([649])\n"
     ]
    }
   ],
   "source": [
    "mask = label_data>1 #0.1\n",
    "\n",
    "# Convert numpy arrays to PyTorch tensors\n",
    "input_tensor = torch.tensor(normInput[mask], dtype=torch.float32) #\"elastic\" diffraction patterns\n",
    "output_tensor = torch.tensor(normOutput[mask], dtype=torch.float32) #inelastic diffraction patterns\n",
    "label_tensor = torch.tensor(label_data[mask], dtype=torch.float32) #Z numbers (Spatially Gaussian covoluted)\n",
    "# label_tensor.fill_(0)\n",
    "\n",
    "# Check shapes\n",
    "print(f\"Input tensor shape: {input_tensor.shape}\")\n",
    "print(f\"Output tensor shape: {output_tensor.shape}\")\n",
    "print(f\"Label tensor shape: {label_tensor.shape}\")"
   ]
  },
  {
   "cell_type": "markdown",
   "metadata": {},
   "source": [
    "### define the model & helper functions"
   ]
  },
  {
   "cell_type": "code",
   "execution_count": 39,
   "metadata": {},
   "outputs": [],
   "source": [
    "class ConditionalUNet(nn.Module):\n",
    "    def __init__(self, img_channels=1, label_dim=1, output_channels=1):\n",
    "        super(ConditionalUNet, self).__init__()\n",
    "\n",
    "        # Encoder\n",
    "        self.enc1 = self.conv_block(img_channels + label_dim, 64)\n",
    "        self.enc2 = self.conv_block(64, 128)\n",
    "        self.enc3 = self.conv_block(128, 256)\n",
    "\n",
    "        # Bottleneck\n",
    "        self.bottleneck = self.conv_block(256, 512)\n",
    "\n",
    "        # Decoder\n",
    "        self.dec3 = self.upconv_block(512 + 256, 256)\n",
    "        self.dec2 = self.upconv_block(256 + 128, 128)\n",
    "        self.dec1 = self.upconv_block(128 + 64, 64)\n",
    "\n",
    "        # Final Output Layer\n",
    "        self.final = nn.Conv2d(64, output_channels, kernel_size=1)\n",
    "\n",
    "    def conv_block(self, in_channels, out_channels):\n",
    "        \"\"\"Convolutional block with two Conv2D layers and ReLU.\"\"\"\n",
    "        return nn.Sequential(\n",
    "            nn.Conv2d(in_channels, out_channels, kernel_size=3, padding=1),\n",
    "            nn.ReLU(inplace=True),\n",
    "            nn.Conv2d(out_channels, out_channels, kernel_size=3, padding=1),\n",
    "            nn.ReLU(inplace=True)\n",
    "        )\n",
    "\n",
    "    def upconv_block(self, in_channels, out_channels):\n",
    "        \"\"\"Upsampling block with ConvTranspose2D and Conv2D.\"\"\"\n",
    "        return nn.Sequential(\n",
    "            nn.ConvTranspose2d(in_channels, out_channels, kernel_size=2, stride=2),\n",
    "            self.conv_block(out_channels, out_channels)\n",
    "        )\n",
    "\n",
    "    def forward(self, img, label):\n",
    "        \"\"\"\n",
    "        Forward pass for Conditional U-Net.\n",
    "\n",
    "        Args:\n",
    "        img (Tensor): 2D diffraction pattern of shape (B, 1, 64, 64).\n",
    "        label (Tensor): Integer variable of shape (B, 1).\n",
    "\n",
    "        Returns:\n",
    "        Tensor: Generated 2D diffraction pattern of shape (B, 1, 64, 64).\n",
    "        \"\"\"\n",
    "        # Expand label to match the input image size\n",
    "        label_img = label.view(-1, 1, 1, 1).expand(-1, 1, img.shape[2], img.shape[3])\n",
    "\n",
    "        # Combine input and label\n",
    "        combined_input = torch.cat([img, label_img], dim=1)\n",
    "\n",
    "        # Encoder Path\n",
    "        enc1 = self.enc1(combined_input)\n",
    "        enc2 = self.enc2(F.max_pool2d(enc1, 2))\n",
    "        enc3 = self.enc3(F.max_pool2d(enc2, 2))\n",
    "\n",
    "        # Bottleneck\n",
    "        bottleneck = self.bottleneck(F.max_pool2d(enc3, 2))\n",
    "\n",
    "        # Decoder Path with Correct Interpolation\n",
    "        dec3 = self.dec3(torch.cat((F.interpolate(bottleneck, size=enc3.shape[2:], mode='bilinear', align_corners=False), enc3), dim=1))\n",
    "        dec2 = self.dec2(torch.cat((F.interpolate(dec3, size=enc2.shape[2:], mode='bilinear', align_corners=False), enc2), dim=1))\n",
    "        dec1 = self.dec1(torch.cat((F.interpolate(dec2, size=enc1.shape[2:], mode='bilinear', align_corners=False), enc1), dim=1))\n",
    "\n",
    "        # Final Output\n",
    "        final_output = self.final(dec1)\n",
    "\n",
    "        # Ensure Output Size Matches Target (64x64)\n",
    "        final_output = F.interpolate(final_output, size=(64, 64), mode='bilinear', align_corners=False)\n",
    "        return final_output"
   ]
  },
  {
   "cell_type": "code",
   "execution_count": 40,
   "metadata": {},
   "outputs": [],
   "source": [
    "class CustomDataset(Dataset):\n",
    "    def __init__(self, input_data, label_data, output_data):\n",
    "        self.input_data = input_data  # Shape (N, 64, 64)\n",
    "        self.label_data = label_data  # Shape (N,)\n",
    "        self.output_data = output_data  # Shape (N, 64, 64)\n",
    "\n",
    "    def __len__(self):\n",
    "        return self.input_data.shape[0]\n",
    "\n",
    "    def __getitem__(self, idx):\n",
    "        # Extract image, label, and target\n",
    "        image = self.input_data[idx].unsqueeze(0)    # Shape (1, 64, 64)\n",
    "        label = self.label_data[idx].view(1)        # Shape (1,)\n",
    "        target = self.output_data[idx].unsqueeze(0) # Shape (1, 64, 64)\n",
    "\n",
    "        return image, label.float(), target\n",
    "\n",
    "# Create Dataset and DataLoader\n",
    "dataset = CustomDataset(input_tensor, label_tensor, output_tensor)\n",
    "dataloader = DataLoader(dataset, batch_size=8, shuffle=True)"
   ]
  },
  {
   "cell_type": "code",
   "execution_count": 41,
   "metadata": {},
   "outputs": [
    {
     "name": "stdout",
     "output_type": "stream",
     "text": [
      "Using device: cuda\n"
     ]
    }
   ],
   "source": [
    "# Check for GPU availability\n",
    "if torch.cuda.is_available():\n",
    "    device = torch.device(\"cuda\")\n",
    "elif torch.backends.mps.is_available():\n",
    "    device = torch.device(\"mps\")\n",
    "else: \n",
    "    device = torch.device(\"cpu\")\n",
    "print(f\"Using device: {device}\")"
   ]
  },
  {
   "cell_type": "code",
   "execution_count": 73,
   "metadata": {
    "scrolled": true
   },
   "outputs": [
    {
     "name": "stderr",
     "output_type": "stream",
     "text": [
      "Epoch [1/100]: 100%|██████████| 65/65 [00:02<00:00, 32.35it/s, loss=0.0039] \n"
     ]
    },
    {
     "name": "stdout",
     "output_type": "stream",
     "text": [
      "Epoch [1], Train Loss: 0.0040, Test Loss: 0.0039\n"
     ]
    },
    {
     "name": "stderr",
     "output_type": "stream",
     "text": [
      "Epoch [2/100]: 100%|██████████| 65/65 [00:01<00:00, 33.61it/s, loss=0.00277]\n"
     ]
    },
    {
     "name": "stdout",
     "output_type": "stream",
     "text": [
      "Epoch [2], Train Loss: 0.0032, Test Loss: 0.0026\n"
     ]
    },
    {
     "name": "stderr",
     "output_type": "stream",
     "text": [
      "Epoch [3/100]: 100%|██████████| 65/65 [00:01<00:00, 35.79it/s, loss=0.00112] \n"
     ]
    },
    {
     "name": "stdout",
     "output_type": "stream",
     "text": [
      "Epoch [3], Train Loss: 0.0014, Test Loss: 0.0011\n"
     ]
    },
    {
     "name": "stderr",
     "output_type": "stream",
     "text": [
      "Epoch [4/100]: 100%|██████████| 65/65 [00:01<00:00, 34.93it/s, loss=0.00115] \n"
     ]
    },
    {
     "name": "stdout",
     "output_type": "stream",
     "text": [
      "Epoch [4], Train Loss: 0.0011, Test Loss: 0.0010\n"
     ]
    },
    {
     "name": "stderr",
     "output_type": "stream",
     "text": [
      "Epoch [5/100]: 100%|██████████| 65/65 [00:01<00:00, 34.84it/s, loss=0.000812]\n"
     ]
    },
    {
     "name": "stdout",
     "output_type": "stream",
     "text": [
      "Epoch [5], Train Loss: 0.0010, Test Loss: 0.0010\n"
     ]
    },
    {
     "name": "stderr",
     "output_type": "stream",
     "text": [
      "Epoch [6/100]: 100%|██████████| 65/65 [00:01<00:00, 34.52it/s, loss=0.00103] \n"
     ]
    },
    {
     "name": "stdout",
     "output_type": "stream",
     "text": [
      "Epoch [6], Train Loss: 0.0009, Test Loss: 0.0009\n"
     ]
    },
    {
     "name": "stderr",
     "output_type": "stream",
     "text": [
      "Epoch [7/100]: 100%|██████████| 65/65 [00:01<00:00, 35.17it/s, loss=0.000692]\n"
     ]
    },
    {
     "name": "stdout",
     "output_type": "stream",
     "text": [
      "Epoch [7], Train Loss: 0.0009, Test Loss: 0.0008\n"
     ]
    },
    {
     "name": "stderr",
     "output_type": "stream",
     "text": [
      "Epoch [8/100]: 100%|██████████| 65/65 [00:01<00:00, 35.11it/s, loss=0.00107] \n"
     ]
    },
    {
     "name": "stdout",
     "output_type": "stream",
     "text": [
      "Epoch [8], Train Loss: 0.0009, Test Loss: 0.0008\n"
     ]
    },
    {
     "name": "stderr",
     "output_type": "stream",
     "text": [
      "Epoch [9/100]: 100%|██████████| 65/65 [00:01<00:00, 34.81it/s, loss=0.000676]\n"
     ]
    },
    {
     "name": "stdout",
     "output_type": "stream",
     "text": [
      "Epoch [9], Train Loss: 0.0008, Test Loss: 0.0007\n"
     ]
    },
    {
     "name": "stderr",
     "output_type": "stream",
     "text": [
      "Epoch [10/100]: 100%|██████████| 65/65 [00:01<00:00, 34.75it/s, loss=0.00127] \n"
     ]
    },
    {
     "name": "stdout",
     "output_type": "stream",
     "text": [
      "Epoch [10], Train Loss: 0.0012, Test Loss: 0.0011\n"
     ]
    },
    {
     "name": "stderr",
     "output_type": "stream",
     "text": [
      "Epoch [11/100]: 100%|██████████| 65/65 [00:01<00:00, 34.77it/s, loss=0.000759]\n"
     ]
    },
    {
     "name": "stdout",
     "output_type": "stream",
     "text": [
      "Epoch [11], Train Loss: 0.0009, Test Loss: 0.0007\n"
     ]
    },
    {
     "name": "stderr",
     "output_type": "stream",
     "text": [
      "Epoch [12/100]: 100%|██████████| 65/65 [00:01<00:00, 34.86it/s, loss=0.000649]\n"
     ]
    },
    {
     "name": "stdout",
     "output_type": "stream",
     "text": [
      "Epoch [12], Train Loss: 0.0006, Test Loss: 0.0006\n"
     ]
    },
    {
     "name": "stderr",
     "output_type": "stream",
     "text": [
      "Epoch [13/100]: 100%|██████████| 65/65 [00:02<00:00, 32.04it/s, loss=0.000252]\n"
     ]
    },
    {
     "name": "stdout",
     "output_type": "stream",
     "text": [
      "Epoch [13], Train Loss: 0.0004, Test Loss: 0.0003\n"
     ]
    },
    {
     "name": "stderr",
     "output_type": "stream",
     "text": [
      "Epoch [14/100]: 100%|██████████| 65/65 [00:02<00:00, 31.66it/s, loss=0.000274]\n"
     ]
    },
    {
     "name": "stdout",
     "output_type": "stream",
     "text": [
      "Epoch [14], Train Loss: 0.0003, Test Loss: 0.0004\n"
     ]
    },
    {
     "name": "stderr",
     "output_type": "stream",
     "text": [
      "Epoch [15/100]: 100%|██████████| 65/65 [00:01<00:00, 32.65it/s, loss=0.00025] \n"
     ]
    },
    {
     "name": "stdout",
     "output_type": "stream",
     "text": [
      "Epoch [15], Train Loss: 0.0003, Test Loss: 0.0003\n"
     ]
    },
    {
     "name": "stderr",
     "output_type": "stream",
     "text": [
      "Epoch [16/100]: 100%|██████████| 65/65 [00:02<00:00, 32.14it/s, loss=0.000193]\n"
     ]
    },
    {
     "name": "stdout",
     "output_type": "stream",
     "text": [
      "Epoch [16], Train Loss: 0.0002, Test Loss: 0.0002\n"
     ]
    },
    {
     "name": "stderr",
     "output_type": "stream",
     "text": [
      "Epoch [17/100]: 100%|██████████| 65/65 [00:02<00:00, 32.11it/s, loss=0.000216]\n"
     ]
    },
    {
     "name": "stdout",
     "output_type": "stream",
     "text": [
      "Epoch [17], Train Loss: 0.0002, Test Loss: 0.0002\n"
     ]
    },
    {
     "name": "stderr",
     "output_type": "stream",
     "text": [
      "Epoch [18/100]: 100%|██████████| 65/65 [00:01<00:00, 32.77it/s, loss=0.000174]\n"
     ]
    },
    {
     "name": "stdout",
     "output_type": "stream",
     "text": [
      "Epoch [18], Train Loss: 0.0002, Test Loss: 0.0002\n"
     ]
    },
    {
     "name": "stderr",
     "output_type": "stream",
     "text": [
      "Epoch [19/100]: 100%|██████████| 65/65 [00:01<00:00, 33.33it/s, loss=0.000187]\n"
     ]
    },
    {
     "name": "stdout",
     "output_type": "stream",
     "text": [
      "Epoch [19], Train Loss: 0.0002, Test Loss: 0.0002\n"
     ]
    },
    {
     "name": "stderr",
     "output_type": "stream",
     "text": [
      "Epoch [20/100]: 100%|██████████| 65/65 [00:01<00:00, 33.29it/s, loss=0.000173]\n"
     ]
    },
    {
     "name": "stdout",
     "output_type": "stream",
     "text": [
      "Epoch [20], Train Loss: 0.0002, Test Loss: 0.0002\n"
     ]
    },
    {
     "name": "stderr",
     "output_type": "stream",
     "text": [
      "Epoch [21/100]: 100%|██████████| 65/65 [00:01<00:00, 34.46it/s, loss=0.000169]\n"
     ]
    },
    {
     "name": "stdout",
     "output_type": "stream",
     "text": [
      "Epoch [21], Train Loss: 0.0002, Test Loss: 0.0003\n"
     ]
    },
    {
     "name": "stderr",
     "output_type": "stream",
     "text": [
      "Epoch [22/100]: 100%|██████████| 65/65 [00:01<00:00, 34.64it/s, loss=0.000255]\n"
     ]
    },
    {
     "name": "stdout",
     "output_type": "stream",
     "text": [
      "Epoch [22], Train Loss: 0.0002, Test Loss: 0.0002\n"
     ]
    },
    {
     "name": "stderr",
     "output_type": "stream",
     "text": [
      "Epoch [23/100]: 100%|██████████| 65/65 [00:01<00:00, 34.68it/s, loss=0.000167]\n"
     ]
    },
    {
     "name": "stdout",
     "output_type": "stream",
     "text": [
      "Epoch [23], Train Loss: 0.0002, Test Loss: 0.0002\n"
     ]
    },
    {
     "name": "stderr",
     "output_type": "stream",
     "text": [
      "Epoch [24/100]: 100%|██████████| 65/65 [00:01<00:00, 34.33it/s, loss=0.000162]\n"
     ]
    },
    {
     "name": "stdout",
     "output_type": "stream",
     "text": [
      "Epoch [24], Train Loss: 0.0002, Test Loss: 0.0002\n"
     ]
    },
    {
     "name": "stderr",
     "output_type": "stream",
     "text": [
      "Epoch [25/100]: 100%|██████████| 65/65 [00:01<00:00, 34.83it/s, loss=0.000141]\n"
     ]
    },
    {
     "name": "stdout",
     "output_type": "stream",
     "text": [
      "Epoch [25], Train Loss: 0.0002, Test Loss: 0.0002\n"
     ]
    },
    {
     "name": "stderr",
     "output_type": "stream",
     "text": [
      "Epoch [26/100]: 100%|██████████| 65/65 [00:01<00:00, 34.02it/s, loss=0.000146]\n"
     ]
    },
    {
     "name": "stdout",
     "output_type": "stream",
     "text": [
      "Epoch [26], Train Loss: 0.0002, Test Loss: 0.0002\n"
     ]
    },
    {
     "name": "stderr",
     "output_type": "stream",
     "text": [
      "Epoch [27/100]: 100%|██████████| 65/65 [00:01<00:00, 34.05it/s, loss=0.000214]\n"
     ]
    },
    {
     "name": "stdout",
     "output_type": "stream",
     "text": [
      "Epoch [27], Train Loss: 0.0002, Test Loss: 0.0002\n"
     ]
    },
    {
     "name": "stderr",
     "output_type": "stream",
     "text": [
      "Epoch [28/100]: 100%|██████████| 65/65 [00:01<00:00, 34.21it/s, loss=0.000149]\n"
     ]
    },
    {
     "name": "stdout",
     "output_type": "stream",
     "text": [
      "Epoch [28], Train Loss: 0.0001, Test Loss: 0.0001\n"
     ]
    },
    {
     "name": "stderr",
     "output_type": "stream",
     "text": [
      "Epoch [29/100]: 100%|██████████| 65/65 [00:01<00:00, 33.88it/s, loss=0.000138]\n"
     ]
    },
    {
     "name": "stdout",
     "output_type": "stream",
     "text": [
      "Epoch [29], Train Loss: 0.0001, Test Loss: 0.0001\n"
     ]
    },
    {
     "name": "stderr",
     "output_type": "stream",
     "text": [
      "Epoch [30/100]: 100%|██████████| 65/65 [00:01<00:00, 34.01it/s, loss=0.00014] \n"
     ]
    },
    {
     "name": "stdout",
     "output_type": "stream",
     "text": [
      "Epoch [30], Train Loss: 0.0001, Test Loss: 0.0001\n"
     ]
    },
    {
     "name": "stderr",
     "output_type": "stream",
     "text": [
      "Epoch [31/100]: 100%|██████████| 65/65 [00:01<00:00, 34.02it/s, loss=0.000122]\n"
     ]
    },
    {
     "name": "stdout",
     "output_type": "stream",
     "text": [
      "Epoch [31], Train Loss: 0.0001, Test Loss: 0.0001\n"
     ]
    },
    {
     "name": "stderr",
     "output_type": "stream",
     "text": [
      "Epoch [32/100]: 100%|██████████| 65/65 [00:01<00:00, 34.41it/s, loss=0.00017] \n"
     ]
    },
    {
     "name": "stdout",
     "output_type": "stream",
     "text": [
      "Epoch [32], Train Loss: 0.0001, Test Loss: 0.0001\n"
     ]
    },
    {
     "name": "stderr",
     "output_type": "stream",
     "text": [
      "Epoch [33/100]: 100%|██████████| 65/65 [00:01<00:00, 34.26it/s, loss=0.000112]\n"
     ]
    },
    {
     "name": "stdout",
     "output_type": "stream",
     "text": [
      "Epoch [33], Train Loss: 0.0001, Test Loss: 0.0001\n"
     ]
    },
    {
     "name": "stderr",
     "output_type": "stream",
     "text": [
      "Epoch [34/100]: 100%|██████████| 65/65 [00:01<00:00, 34.30it/s, loss=0.00013] \n"
     ]
    },
    {
     "name": "stdout",
     "output_type": "stream",
     "text": [
      "Epoch [34], Train Loss: 0.0001, Test Loss: 0.0001\n"
     ]
    },
    {
     "name": "stderr",
     "output_type": "stream",
     "text": [
      "Epoch [35/100]: 100%|██████████| 65/65 [00:01<00:00, 33.91it/s, loss=9.36e-5] \n"
     ]
    },
    {
     "name": "stdout",
     "output_type": "stream",
     "text": [
      "Epoch [35], Train Loss: 0.0001, Test Loss: 0.0001\n"
     ]
    },
    {
     "name": "stderr",
     "output_type": "stream",
     "text": [
      "Epoch [36/100]: 100%|██████████| 65/65 [00:01<00:00, 33.99it/s, loss=8.36e-5] \n"
     ]
    },
    {
     "name": "stdout",
     "output_type": "stream",
     "text": [
      "Epoch [36], Train Loss: 0.0001, Test Loss: 0.0001\n"
     ]
    },
    {
     "name": "stderr",
     "output_type": "stream",
     "text": [
      "Epoch [37/100]: 100%|██████████| 65/65 [00:01<00:00, 34.16it/s, loss=8.79e-5] \n"
     ]
    },
    {
     "name": "stdout",
     "output_type": "stream",
     "text": [
      "Epoch [37], Train Loss: 0.0001, Test Loss: 0.0001\n"
     ]
    },
    {
     "name": "stderr",
     "output_type": "stream",
     "text": [
      "Epoch [38/100]: 100%|██████████| 65/65 [00:01<00:00, 33.74it/s, loss=8.31e-5] \n"
     ]
    },
    {
     "name": "stdout",
     "output_type": "stream",
     "text": [
      "Epoch [38], Train Loss: 0.0001, Test Loss: 0.0001\n"
     ]
    },
    {
     "name": "stderr",
     "output_type": "stream",
     "text": [
      "Epoch [39/100]: 100%|██████████| 65/65 [00:01<00:00, 34.20it/s, loss=9.6e-5]  \n"
     ]
    },
    {
     "name": "stdout",
     "output_type": "stream",
     "text": [
      "Epoch [39], Train Loss: 0.0001, Test Loss: 0.0001\n"
     ]
    },
    {
     "name": "stderr",
     "output_type": "stream",
     "text": [
      "Epoch [40/100]: 100%|██████████| 65/65 [00:01<00:00, 33.21it/s, loss=8.66e-5] \n"
     ]
    },
    {
     "name": "stdout",
     "output_type": "stream",
     "text": [
      "Epoch [40], Train Loss: 0.0001, Test Loss: 0.0001\n"
     ]
    },
    {
     "name": "stderr",
     "output_type": "stream",
     "text": [
      "Epoch [41/100]: 100%|██████████| 65/65 [00:02<00:00, 31.02it/s, loss=7.57e-5]\n"
     ]
    },
    {
     "name": "stdout",
     "output_type": "stream",
     "text": [
      "Epoch [41], Train Loss: 0.0001, Test Loss: 0.0001\n"
     ]
    },
    {
     "name": "stderr",
     "output_type": "stream",
     "text": [
      "Epoch [42/100]: 100%|██████████| 65/65 [00:02<00:00, 31.27it/s, loss=7.78e-5] \n"
     ]
    },
    {
     "name": "stdout",
     "output_type": "stream",
     "text": [
      "Epoch [42], Train Loss: 0.0001, Test Loss: 0.0001\n"
     ]
    },
    {
     "name": "stderr",
     "output_type": "stream",
     "text": [
      "Epoch [43/100]: 100%|██████████| 65/65 [00:02<00:00, 31.87it/s, loss=7.13e-5]\n"
     ]
    },
    {
     "name": "stdout",
     "output_type": "stream",
     "text": [
      "Epoch [43], Train Loss: 0.0001, Test Loss: 0.0001\n"
     ]
    },
    {
     "name": "stderr",
     "output_type": "stream",
     "text": [
      "Epoch [44/100]: 100%|██████████| 65/65 [00:01<00:00, 32.53it/s, loss=7.02e-5] \n"
     ]
    },
    {
     "name": "stdout",
     "output_type": "stream",
     "text": [
      "Epoch [44], Train Loss: 0.0001, Test Loss: 0.0001\n"
     ]
    },
    {
     "name": "stderr",
     "output_type": "stream",
     "text": [
      "Epoch [45/100]: 100%|██████████| 65/65 [00:01<00:00, 32.87it/s, loss=7.78e-5] \n"
     ]
    },
    {
     "name": "stdout",
     "output_type": "stream",
     "text": [
      "Epoch [45], Train Loss: 0.0001, Test Loss: 0.0001\n"
     ]
    },
    {
     "name": "stderr",
     "output_type": "stream",
     "text": [
      "Epoch [46/100]: 100%|██████████| 65/65 [00:01<00:00, 33.80it/s, loss=8.38e-5] \n"
     ]
    },
    {
     "name": "stdout",
     "output_type": "stream",
     "text": [
      "Epoch [46], Train Loss: 0.0001, Test Loss: 0.0001\n"
     ]
    },
    {
     "name": "stderr",
     "output_type": "stream",
     "text": [
      "Epoch [47/100]: 100%|██████████| 65/65 [00:01<00:00, 33.92it/s, loss=8.79e-5] \n"
     ]
    },
    {
     "name": "stdout",
     "output_type": "stream",
     "text": [
      "Epoch [47], Train Loss: 0.0001, Test Loss: 0.0001\n"
     ]
    },
    {
     "name": "stderr",
     "output_type": "stream",
     "text": [
      "Epoch [48/100]: 100%|██████████| 65/65 [00:01<00:00, 34.04it/s, loss=6e-5]    \n"
     ]
    },
    {
     "name": "stdout",
     "output_type": "stream",
     "text": [
      "Epoch [48], Train Loss: 0.0001, Test Loss: 0.0001\n"
     ]
    },
    {
     "name": "stderr",
     "output_type": "stream",
     "text": [
      "Epoch [49/100]: 100%|██████████| 65/65 [00:01<00:00, 33.87it/s, loss=6.94e-5]\n"
     ]
    },
    {
     "name": "stdout",
     "output_type": "stream",
     "text": [
      "Epoch [49], Train Loss: 0.0001, Test Loss: 0.0001\n"
     ]
    },
    {
     "name": "stderr",
     "output_type": "stream",
     "text": [
      "Epoch [50/100]: 100%|██████████| 65/65 [00:01<00:00, 33.71it/s, loss=0.000117]\n"
     ]
    },
    {
     "name": "stdout",
     "output_type": "stream",
     "text": [
      "Epoch [50], Train Loss: 0.0001, Test Loss: 0.0001\n"
     ]
    },
    {
     "name": "stderr",
     "output_type": "stream",
     "text": [
      "Epoch [51/100]: 100%|██████████| 65/65 [00:01<00:00, 34.14it/s, loss=6.82e-5]\n"
     ]
    },
    {
     "name": "stdout",
     "output_type": "stream",
     "text": [
      "Epoch [51], Train Loss: 0.0001, Test Loss: 0.0001\n"
     ]
    },
    {
     "name": "stderr",
     "output_type": "stream",
     "text": [
      "Epoch [52/100]: 100%|██████████| 65/65 [00:01<00:00, 33.88it/s, loss=6.35e-5]\n"
     ]
    },
    {
     "name": "stdout",
     "output_type": "stream",
     "text": [
      "Epoch [52], Train Loss: 0.0001, Test Loss: 0.0001\n"
     ]
    },
    {
     "name": "stderr",
     "output_type": "stream",
     "text": [
      "Epoch [53/100]: 100%|██████████| 65/65 [00:01<00:00, 33.90it/s, loss=9.8e-5]  \n"
     ]
    },
    {
     "name": "stdout",
     "output_type": "stream",
     "text": [
      "Epoch [53], Train Loss: 0.0001, Test Loss: 0.0001\n"
     ]
    },
    {
     "name": "stderr",
     "output_type": "stream",
     "text": [
      "Epoch [54/100]: 100%|██████████| 65/65 [00:01<00:00, 32.86it/s, loss=6.4e-5]  \n"
     ]
    },
    {
     "name": "stdout",
     "output_type": "stream",
     "text": [
      "Epoch [54], Train Loss: 0.0001, Test Loss: 0.0001\n"
     ]
    },
    {
     "name": "stderr",
     "output_type": "stream",
     "text": [
      "Epoch [55/100]: 100%|██████████| 65/65 [00:01<00:00, 34.04it/s, loss=6.89e-5]\n"
     ]
    },
    {
     "name": "stdout",
     "output_type": "stream",
     "text": [
      "Epoch [55], Train Loss: 0.0001, Test Loss: 0.0001\n"
     ]
    },
    {
     "name": "stderr",
     "output_type": "stream",
     "text": [
      "Epoch [56/100]: 100%|██████████| 65/65 [00:01<00:00, 33.00it/s, loss=6.68e-5]\n"
     ]
    },
    {
     "name": "stdout",
     "output_type": "stream",
     "text": [
      "Epoch [56], Train Loss: 0.0001, Test Loss: 0.0001\n"
     ]
    },
    {
     "name": "stderr",
     "output_type": "stream",
     "text": [
      "Epoch [57/100]: 100%|██████████| 65/65 [00:01<00:00, 32.98it/s, loss=4.66e-5]\n"
     ]
    },
    {
     "name": "stdout",
     "output_type": "stream",
     "text": [
      "Epoch [57], Train Loss: 0.0001, Test Loss: 0.0001\n"
     ]
    },
    {
     "name": "stderr",
     "output_type": "stream",
     "text": [
      "Epoch [58/100]: 100%|██████████| 65/65 [00:01<00:00, 32.90it/s, loss=5.5e-5] \n"
     ]
    },
    {
     "name": "stdout",
     "output_type": "stream",
     "text": [
      "Epoch [58], Train Loss: 0.0001, Test Loss: 0.0001\n"
     ]
    },
    {
     "name": "stderr",
     "output_type": "stream",
     "text": [
      "Epoch [59/100]: 100%|██████████| 65/65 [00:01<00:00, 33.85it/s, loss=5.95e-5]\n"
     ]
    },
    {
     "name": "stdout",
     "output_type": "stream",
     "text": [
      "Epoch [59], Train Loss: 0.0001, Test Loss: 0.0001\n"
     ]
    },
    {
     "name": "stderr",
     "output_type": "stream",
     "text": [
      "Epoch [60/100]: 100%|██████████| 65/65 [00:02<00:00, 32.46it/s, loss=6.15e-5]\n"
     ]
    },
    {
     "name": "stdout",
     "output_type": "stream",
     "text": [
      "Epoch [60], Train Loss: 0.0001, Test Loss: 0.0001\n"
     ]
    },
    {
     "name": "stderr",
     "output_type": "stream",
     "text": [
      "Epoch [61/100]: 100%|██████████| 65/65 [00:01<00:00, 34.66it/s, loss=6.08e-5]\n"
     ]
    },
    {
     "name": "stdout",
     "output_type": "stream",
     "text": [
      "Epoch [61], Train Loss: 0.0001, Test Loss: 0.0001\n"
     ]
    },
    {
     "name": "stderr",
     "output_type": "stream",
     "text": [
      "Epoch [62/100]: 100%|██████████| 65/65 [00:01<00:00, 34.46it/s, loss=5.48e-5]\n"
     ]
    },
    {
     "name": "stdout",
     "output_type": "stream",
     "text": [
      "Epoch [62], Train Loss: 0.0001, Test Loss: 0.0001\n"
     ]
    },
    {
     "name": "stderr",
     "output_type": "stream",
     "text": [
      "Epoch [63/100]: 100%|██████████| 65/65 [00:01<00:00, 34.28it/s, loss=6.02e-5]\n"
     ]
    },
    {
     "name": "stdout",
     "output_type": "stream",
     "text": [
      "Epoch [63], Train Loss: 0.0001, Test Loss: 0.0001\n"
     ]
    },
    {
     "name": "stderr",
     "output_type": "stream",
     "text": [
      "Epoch [64/100]: 100%|██████████| 65/65 [00:01<00:00, 33.96it/s, loss=4.62e-5]\n"
     ]
    },
    {
     "name": "stdout",
     "output_type": "stream",
     "text": [
      "Epoch [64], Train Loss: 0.0001, Test Loss: 0.0001\n"
     ]
    },
    {
     "name": "stderr",
     "output_type": "stream",
     "text": [
      "Epoch [65/100]: 100%|██████████| 65/65 [00:01<00:00, 34.61it/s, loss=4.98e-5]\n"
     ]
    },
    {
     "name": "stdout",
     "output_type": "stream",
     "text": [
      "Epoch [65], Train Loss: 0.0001, Test Loss: 0.0001\n"
     ]
    },
    {
     "name": "stderr",
     "output_type": "stream",
     "text": [
      "Epoch [66/100]: 100%|██████████| 65/65 [00:01<00:00, 34.36it/s, loss=5.3e-5] \n"
     ]
    },
    {
     "name": "stdout",
     "output_type": "stream",
     "text": [
      "Epoch [66], Train Loss: 0.0001, Test Loss: 0.0001\n"
     ]
    },
    {
     "name": "stderr",
     "output_type": "stream",
     "text": [
      "Epoch [67/100]: 100%|██████████| 65/65 [00:01<00:00, 34.55it/s, loss=5.04e-5]\n"
     ]
    },
    {
     "name": "stdout",
     "output_type": "stream",
     "text": [
      "Epoch [67], Train Loss: 0.0001, Test Loss: 0.0001\n"
     ]
    },
    {
     "name": "stderr",
     "output_type": "stream",
     "text": [
      "Epoch [68/100]: 100%|██████████| 65/65 [00:01<00:00, 34.47it/s, loss=6.16e-5]\n"
     ]
    },
    {
     "name": "stdout",
     "output_type": "stream",
     "text": [
      "Epoch [68], Train Loss: 0.0001, Test Loss: 0.0001\n"
     ]
    },
    {
     "name": "stderr",
     "output_type": "stream",
     "text": [
      "Epoch [69/100]: 100%|██████████| 65/65 [00:01<00:00, 34.53it/s, loss=5.73e-5]\n"
     ]
    },
    {
     "name": "stdout",
     "output_type": "stream",
     "text": [
      "Epoch [69], Train Loss: 0.0001, Test Loss: 0.0001\n"
     ]
    },
    {
     "name": "stderr",
     "output_type": "stream",
     "text": [
      "Epoch [70/100]: 100%|██████████| 65/65 [00:01<00:00, 34.26it/s, loss=5.08e-5]\n"
     ]
    },
    {
     "name": "stdout",
     "output_type": "stream",
     "text": [
      "Epoch [70], Train Loss: 0.0000, Test Loss: 0.0001\n"
     ]
    },
    {
     "name": "stderr",
     "output_type": "stream",
     "text": [
      "Epoch [71/100]: 100%|██████████| 65/65 [00:01<00:00, 34.53it/s, loss=4.78e-5]\n"
     ]
    },
    {
     "name": "stdout",
     "output_type": "stream",
     "text": [
      "Epoch [71], Train Loss: 0.0000, Test Loss: 0.0001\n"
     ]
    },
    {
     "name": "stderr",
     "output_type": "stream",
     "text": [
      "Epoch [72/100]: 100%|██████████| 65/65 [00:01<00:00, 34.62it/s, loss=6.08e-5]\n"
     ]
    },
    {
     "name": "stdout",
     "output_type": "stream",
     "text": [
      "Epoch [72], Train Loss: 0.0000, Test Loss: 0.0001\n"
     ]
    },
    {
     "name": "stderr",
     "output_type": "stream",
     "text": [
      "Epoch [73/100]: 100%|██████████| 65/65 [00:01<00:00, 33.79it/s, loss=3.61e-5]\n"
     ]
    },
    {
     "name": "stdout",
     "output_type": "stream",
     "text": [
      "Epoch [73], Train Loss: 0.0000, Test Loss: 0.0001\n"
     ]
    },
    {
     "name": "stderr",
     "output_type": "stream",
     "text": [
      "Epoch [74/100]: 100%|██████████| 65/65 [00:01<00:00, 34.44it/s, loss=6.3e-5] \n"
     ]
    },
    {
     "name": "stdout",
     "output_type": "stream",
     "text": [
      "Epoch [74], Train Loss: 0.0000, Test Loss: 0.0001\n"
     ]
    },
    {
     "name": "stderr",
     "output_type": "stream",
     "text": [
      "Epoch [75/100]: 100%|██████████| 65/65 [00:01<00:00, 34.43it/s, loss=4.44e-5] \n"
     ]
    },
    {
     "name": "stdout",
     "output_type": "stream",
     "text": [
      "Epoch [75], Train Loss: 0.0001, Test Loss: 0.0001\n"
     ]
    },
    {
     "name": "stderr",
     "output_type": "stream",
     "text": [
      "Epoch [76/100]: 100%|██████████| 65/65 [00:01<00:00, 34.06it/s, loss=4.92e-5]\n"
     ]
    },
    {
     "name": "stdout",
     "output_type": "stream",
     "text": [
      "Epoch [76], Train Loss: 0.0001, Test Loss: 0.0001\n"
     ]
    },
    {
     "name": "stderr",
     "output_type": "stream",
     "text": [
      "Epoch [77/100]: 100%|██████████| 65/65 [00:01<00:00, 34.70it/s, loss=3.87e-5]\n"
     ]
    },
    {
     "name": "stdout",
     "output_type": "stream",
     "text": [
      "Epoch [77], Train Loss: 0.0000, Test Loss: 0.0001\n"
     ]
    },
    {
     "name": "stderr",
     "output_type": "stream",
     "text": [
      "Epoch [78/100]: 100%|██████████| 65/65 [00:01<00:00, 34.46it/s, loss=4.66e-5]\n"
     ]
    },
    {
     "name": "stdout",
     "output_type": "stream",
     "text": [
      "Epoch [78], Train Loss: 0.0000, Test Loss: 0.0001\n"
     ]
    },
    {
     "name": "stderr",
     "output_type": "stream",
     "text": [
      "Epoch [79/100]: 100%|██████████| 65/65 [00:01<00:00, 34.63it/s, loss=4.19e-5]\n"
     ]
    },
    {
     "name": "stdout",
     "output_type": "stream",
     "text": [
      "Epoch [79], Train Loss: 0.0000, Test Loss: 0.0001\n"
     ]
    },
    {
     "name": "stderr",
     "output_type": "stream",
     "text": [
      "Epoch [80/100]: 100%|██████████| 65/65 [00:01<00:00, 34.44it/s, loss=4.1e-5] \n"
     ]
    },
    {
     "name": "stdout",
     "output_type": "stream",
     "text": [
      "Epoch [80], Train Loss: 0.0000, Test Loss: 0.0001\n"
     ]
    },
    {
     "name": "stderr",
     "output_type": "stream",
     "text": [
      "Epoch [81/100]: 100%|██████████| 65/65 [00:01<00:00, 34.33it/s, loss=3.89e-5]\n"
     ]
    },
    {
     "name": "stdout",
     "output_type": "stream",
     "text": [
      "Epoch [81], Train Loss: 0.0000, Test Loss: 0.0001\n"
     ]
    },
    {
     "name": "stderr",
     "output_type": "stream",
     "text": [
      "Epoch [82/100]: 100%|██████████| 65/65 [00:01<00:00, 34.18it/s, loss=3.37e-5]\n"
     ]
    },
    {
     "name": "stdout",
     "output_type": "stream",
     "text": [
      "Epoch [82], Train Loss: 0.0000, Test Loss: 0.0000\n"
     ]
    },
    {
     "name": "stderr",
     "output_type": "stream",
     "text": [
      "Epoch [83/100]: 100%|██████████| 65/65 [00:01<00:00, 34.38it/s, loss=3.47e-5]\n"
     ]
    },
    {
     "name": "stdout",
     "output_type": "stream",
     "text": [
      "Epoch [83], Train Loss: 0.0000, Test Loss: 0.0000\n"
     ]
    },
    {
     "name": "stderr",
     "output_type": "stream",
     "text": [
      "Epoch [84/100]: 100%|██████████| 65/65 [00:01<00:00, 34.45it/s, loss=3.99e-5]\n"
     ]
    },
    {
     "name": "stdout",
     "output_type": "stream",
     "text": [
      "Epoch [84], Train Loss: 0.0000, Test Loss: 0.0000\n"
     ]
    },
    {
     "name": "stderr",
     "output_type": "stream",
     "text": [
      "Epoch [85/100]: 100%|██████████| 65/65 [00:01<00:00, 34.64it/s, loss=2.88e-5]\n"
     ]
    },
    {
     "name": "stdout",
     "output_type": "stream",
     "text": [
      "Epoch [85], Train Loss: 0.0000, Test Loss: 0.0000\n"
     ]
    },
    {
     "name": "stderr",
     "output_type": "stream",
     "text": [
      "Epoch [86/100]: 100%|██████████| 65/65 [00:01<00:00, 34.69it/s, loss=0.000345]\n"
     ]
    },
    {
     "name": "stdout",
     "output_type": "stream",
     "text": [
      "Epoch [86], Train Loss: 0.0001, Test Loss: 0.0004\n"
     ]
    },
    {
     "name": "stderr",
     "output_type": "stream",
     "text": [
      "Epoch [87/100]: 100%|██████████| 65/65 [00:01<00:00, 34.53it/s, loss=5.78e-5] \n"
     ]
    },
    {
     "name": "stdout",
     "output_type": "stream",
     "text": [
      "Epoch [87], Train Loss: 0.0002, Test Loss: 0.0001\n"
     ]
    },
    {
     "name": "stderr",
     "output_type": "stream",
     "text": [
      "Epoch [88/100]: 100%|██████████| 65/65 [00:01<00:00, 34.34it/s, loss=3.62e-5]\n"
     ]
    },
    {
     "name": "stdout",
     "output_type": "stream",
     "text": [
      "Epoch [88], Train Loss: 0.0000, Test Loss: 0.0001\n"
     ]
    },
    {
     "name": "stderr",
     "output_type": "stream",
     "text": [
      "Epoch [89/100]: 100%|██████████| 65/65 [00:01<00:00, 34.10it/s, loss=3.87e-5]\n"
     ]
    },
    {
     "name": "stdout",
     "output_type": "stream",
     "text": [
      "Epoch [89], Train Loss: 0.0000, Test Loss: 0.0000\n"
     ]
    },
    {
     "name": "stderr",
     "output_type": "stream",
     "text": [
      "Epoch [90/100]: 100%|██████████| 65/65 [00:01<00:00, 34.19it/s, loss=3.02e-5]\n"
     ]
    },
    {
     "name": "stdout",
     "output_type": "stream",
     "text": [
      "Epoch [90], Train Loss: 0.0000, Test Loss: 0.0000\n"
     ]
    },
    {
     "name": "stderr",
     "output_type": "stream",
     "text": [
      "Epoch [91/100]: 100%|██████████| 65/65 [00:01<00:00, 33.38it/s, loss=3.03e-5]\n"
     ]
    },
    {
     "name": "stdout",
     "output_type": "stream",
     "text": [
      "Epoch [91], Train Loss: 0.0000, Test Loss: 0.0000\n"
     ]
    },
    {
     "name": "stderr",
     "output_type": "stream",
     "text": [
      "Epoch [92/100]: 100%|██████████| 65/65 [00:01<00:00, 34.38it/s, loss=2.57e-5]\n"
     ]
    },
    {
     "name": "stdout",
     "output_type": "stream",
     "text": [
      "Epoch [92], Train Loss: 0.0000, Test Loss: 0.0000\n"
     ]
    },
    {
     "name": "stderr",
     "output_type": "stream",
     "text": [
      "Epoch [93/100]: 100%|██████████| 65/65 [00:01<00:00, 34.32it/s, loss=3.31e-5]\n"
     ]
    },
    {
     "name": "stdout",
     "output_type": "stream",
     "text": [
      "Epoch [93], Train Loss: 0.0000, Test Loss: 0.0000\n"
     ]
    },
    {
     "name": "stderr",
     "output_type": "stream",
     "text": [
      "Epoch [94/100]: 100%|██████████| 65/65 [00:01<00:00, 34.04it/s, loss=3.68e-5]\n"
     ]
    },
    {
     "name": "stdout",
     "output_type": "stream",
     "text": [
      "Epoch [94], Train Loss: 0.0000, Test Loss: 0.0000\n"
     ]
    },
    {
     "name": "stderr",
     "output_type": "stream",
     "text": [
      "Epoch [95/100]: 100%|██████████| 65/65 [00:01<00:00, 34.18it/s, loss=2.41e-5]\n"
     ]
    },
    {
     "name": "stdout",
     "output_type": "stream",
     "text": [
      "Epoch [95], Train Loss: 0.0000, Test Loss: 0.0000\n"
     ]
    },
    {
     "name": "stderr",
     "output_type": "stream",
     "text": [
      "Epoch [96/100]: 100%|██████████| 65/65 [00:01<00:00, 34.30it/s, loss=2.41e-5]\n"
     ]
    },
    {
     "name": "stdout",
     "output_type": "stream",
     "text": [
      "Epoch [96], Train Loss: 0.0000, Test Loss: 0.0000\n"
     ]
    },
    {
     "name": "stderr",
     "output_type": "stream",
     "text": [
      "Epoch [97/100]: 100%|██████████| 65/65 [00:02<00:00, 32.23it/s, loss=2.97e-5]\n"
     ]
    },
    {
     "name": "stdout",
     "output_type": "stream",
     "text": [
      "Epoch [97], Train Loss: 0.0000, Test Loss: 0.0000\n"
     ]
    },
    {
     "name": "stderr",
     "output_type": "stream",
     "text": [
      "Epoch [98/100]: 100%|██████████| 65/65 [00:01<00:00, 34.04it/s, loss=3.46e-5]\n"
     ]
    },
    {
     "name": "stdout",
     "output_type": "stream",
     "text": [
      "Epoch [98], Train Loss: 0.0000, Test Loss: 0.0000\n"
     ]
    },
    {
     "name": "stderr",
     "output_type": "stream",
     "text": [
      "Epoch [99/100]: 100%|██████████| 65/65 [00:01<00:00, 33.63it/s, loss=3.61e-5]\n"
     ]
    },
    {
     "name": "stdout",
     "output_type": "stream",
     "text": [
      "Epoch [99], Train Loss: 0.0000, Test Loss: 0.0000\n"
     ]
    },
    {
     "name": "stderr",
     "output_type": "stream",
     "text": [
      "Epoch [100/100]: 100%|██████████| 65/65 [00:01<00:00, 33.58it/s, loss=3.85e-5]\n"
     ]
    },
    {
     "name": "stdout",
     "output_type": "stream",
     "text": [
      "Epoch [100], Train Loss: 0.0000, Test Loss: 0.0000\n"
     ]
    },
    {
     "data": {
      "image/png": "[encoded data removed]",
      "text/plain": [
       "<Figure size 1000x600 with 1 Axes>"
      ]
     },
     "metadata": {},
     "output_type": "display_data"
    }
   ],
   "source": [
    "from torch.utils.data import Subset\n",
    "\n",
    "# Initialize Model, Loss, and Optimizer\n",
    "model = ConditionalUNet().to(device)\n",
    "criterion = nn.MSELoss()\n",
    "optimizer = optim.Adam(model.parameters(), lr=1e-4)\n",
    "\n",
    "# Set manual seed for reproducibility\n",
    "torch.manual_seed(42)\n",
    "\n",
    "# Generate shuffled indices\n",
    "indices = torch.randperm(len(dataset)).tolist()\n",
    "\n",
    "# Split indices into training and testing\n",
    "train_indices = indices[:train_size]\n",
    "test_indices = indices[train_size:]\n",
    "\n",
    "# Create datasets using Subset\n",
    "train_dataset = Subset(dataset, train_indices)\n",
    "test_dataset = Subset(dataset, test_indices)\n",
    "\n",
    "# Create DataLoaders\n",
    "train_loader = DataLoader(train_dataset, batch_size=8, shuffle=True)\n",
    "test_loader = DataLoader(test_dataset, batch_size=8, shuffle=False)\n",
    "\n",
    "# Track Training and Testing Loss\n",
    "train_losses = []\n",
    "test_losses = []\n",
    "\n",
    "# Training Loop\n",
    "num_epochs = 100\n",
    "# Training Loop\n",
    "for epoch in range(num_epochs):\n",
    "    model.train()\n",
    "    running_train_loss = 0.0\n",
    "    \n",
    "    # Training Loop with Progress Bar\n",
    "    loop = tqdm(train_loader, total=len(train_loader), leave=True)\n",
    "    for image, label, target in loop:\n",
    "        # Move data to GPU\n",
    "        image, label, target = image.to(device), label.to(device), target.to(device)\n",
    "\n",
    "        optimizer.zero_grad()\n",
    "\n",
    "        # Forward pass\n",
    "        prediction = model(image, label)\n",
    "\n",
    "        # Calculate Loss and Backpropagation\n",
    "        loss = criterion(prediction, target)\n",
    "        loss.backward()\n",
    "        optimizer.step()\n",
    "\n",
    "        # Update Progress Bar\n",
    "        running_train_loss += loss.item()\n",
    "        loop.set_description(f\"Epoch [{epoch+1}/{num_epochs}]\")\n",
    "        loop.set_postfix(loss=loss.item())\n",
    "\n",
    "    # Average Training Loss\n",
    "    avg_train_loss = running_train_loss / len(train_loader)\n",
    "    train_losses.append(avg_train_loss)\n",
    "\n",
    "    # Evaluate on Test Set\n",
    "    model.eval()\n",
    "    running_test_loss = 0.0\n",
    "    with torch.no_grad():\n",
    "        for image, label, target in test_loader:\n",
    "            image, label, target = image.to(device), label.to(device), target.to(device)\n",
    "            prediction = model(image, label)\n",
    "\n",
    "            # Calculate Test Loss\n",
    "            test_loss = criterion(prediction, target)\n",
    "            running_test_loss += test_loss.item()\n",
    "\n",
    "    # Average Test Loss\n",
    "    avg_test_loss = running_test_loss / len(test_loader)\n",
    "    test_losses.append(avg_test_loss)\n",
    "    print(f\"Epoch [{epoch+1}], Train Loss: {avg_train_loss:.4f}, Test Loss: {avg_test_loss:.4f}\")\n",
    "\n",
    "# Plot Training and Testing Loss Curves with Log Scale\n",
    "plt.figure(figsize=(10, 6))\n",
    "plt.plot(range(1, num_epochs+1), train_losses, label='Training Loss', marker='o', color='b')\n",
    "plt.plot(range(1, num_epochs+1), test_losses, label='Testing Loss', marker='s', color='r')\n",
    "\n",
    "plt.title(\"Training and Testing Loss (Log Scale)\")\n",
    "plt.xlabel(\"Epoch\")\n",
    "plt.ylabel(\"Loss (Log Scale)\")\n",
    "plt.yscale('log')  # Apply log scale to y-axis\n",
    "plt.grid(True, which=\"both\", ls=\"--\")\n",
    "plt.legend()\n",
    "plt.show()"
   ]
  },
  {
   "cell_type": "code",
   "execution_count": 74,
   "metadata": {},
   "outputs": [
    {
     "name": "stderr",
     "output_type": "stream",
     "text": [
      "/tmp/ipykernel_641324/4183567099.py:9: UserWarning: To copy construct from a tensor, it is recommended to use sourceTensor.clone().detach() or sourceTensor.clone().detach().requires_grad_(True), rather than torch.tensor(sourceTensor).\n",
      "  sample_label = torch.tensor(label_tensor[idx], dtype=torch.float32, device=device).view(1, 1)  # Shape: (1, 1)\n"
     ]
    },
    {
     "data": {
      "image/png": "[encoded data removed]",
      "text/plain": [
       "<Figure size 1500x500 with 3 Axes>"
      ]
     },
     "metadata": {},
     "output_type": "display_data"
    }
   ],
   "source": [
    "# Switch model to evaluation mode\n",
    "model.eval()\n",
    "\n",
    "# Select specific input sample (Use single index)\n",
    "idx = test_indices[0]  # Index in the reduced 3D dataset\n",
    "\n",
    "# Extract corresponding input, label, and target\n",
    "sample_input = input_tensor[idx].unsqueeze(0).unsqueeze(0).to(device)  # Shape: (1, 1, 64, 64)\n",
    "sample_label = torch.tensor(label_tensor[idx], dtype=torch.float32, device=device).view(1, 1)  # Shape: (1, 1)\n",
    "\n",
    "# Make a prediction\n",
    "with torch.no_grad():\n",
    "    prediction = model(sample_input, sample_label)\n",
    "    pred_img = prediction.squeeze().cpu().numpy()\n",
    "\n",
    "# Plot the images\n",
    "fig, ax = plt.subplots(1, 3, figsize=(15, 5))\n",
    "\n",
    "# Original Input\n",
    "ax[0].imshow(sample_input.squeeze().cpu().numpy(), cmap='gray')\n",
    "ax[0].set_title(\"Input Image\")\n",
    "\n",
    "# Ground Truth (Assuming output_tensor is available)\n",
    "target_img = output_tensor[idx].cpu().numpy()\n",
    "ax[1].imshow(target_img, cmap='gray')\n",
    "ax[1].set_title(\"Target Image\")\n",
    "\n",
    "# Predicted Output\n",
    "ax[2].imshow(pred_img, cmap='gray')\n",
    "ax[2].set_title(\"Predicted Image\")\n",
    "\n",
    "plt.show()"
   ]
  },
  {
   "cell_type": "code",
   "execution_count": 75,
   "metadata": {},
   "outputs": [
    {
     "name": "stdout",
     "output_type": "stream",
     "text": [
      "Saved Predictions Shape: torch.Size([130, 64, 64])\n",
      "Saved Input Images Shape: torch.Size([130, 64, 64])\n",
      "Saved Target Images Shape: torch.Size([130, 64, 64])\n"
     ]
    }
   ],
   "source": [
    "import torch\n",
    "\n",
    "# Switch model to evaluation mode\n",
    "model.eval()\n",
    "\n",
    "# Initialize tensors for storing predictions, inputs, and targets\n",
    "num_samples = len(test_loader.dataset)\n",
    "predictions = torch.zeros(num_samples, 64, 64)\n",
    "input_images = torch.zeros(num_samples, 64, 64)\n",
    "target_images = torch.zeros(num_samples, 64, 64)\n",
    "\n",
    "# Evaluate all test samples\n",
    "with torch.no_grad():\n",
    "    start_idx = 0\n",
    "    for image, label, target in test_loader:\n",
    "        # Move data to device\n",
    "        image, label, target = image.to(device), label.to(device), target.to(device)\n",
    "\n",
    "        # Make prediction\n",
    "        prediction = model(image, label)\n",
    "\n",
    "        # Calculate the batch size\n",
    "        batch_size = prediction.size(0)\n",
    "\n",
    "        # Save predictions, inputs, and targets batch-wise\n",
    "        predictions[start_idx : start_idx + batch_size] = prediction.squeeze(1).cpu()\n",
    "        input_images[start_idx : start_idx + batch_size] = image.squeeze(1).cpu()\n",
    "        target_images[start_idx : start_idx + batch_size] = target.squeeze(1).cpu()\n",
    "\n",
    "        # Update the starting index\n",
    "        start_idx += batch_size\n",
    "\n",
    "# Save tensors to files\n",
    "torch.save(predictions, \"test_predictions_tensor.pt\")\n",
    "torch.save(input_images, \"test_input_images_tensor.pt\")\n",
    "torch.save(target_images, \"test_target_images_tensor.pt\")\n",
    "\n",
    "# Verify tensor shapes\n",
    "print(f\"Saved Predictions Shape: {predictions.shape}\")\n",
    "print(f\"Saved Input Images Shape: {input_images.shape}\")\n",
    "print(f\"Saved Target Images Shape: {target_images.shape}\")\n"
   ]
  },
  {
   "cell_type": "code",
   "execution_count": 76,
   "metadata": {},
   "outputs": [
    {
     "data": {
      "image/png": "[encoded data removed]",
      "text/plain": [
       "<Figure size 1800x600 with 3 Axes>"
      ]
     },
     "metadata": {},
     "output_type": "display_data"
    }
   ],
   "source": [
    "import torch\n",
    "import matplotlib.pyplot as plt\n",
    "\n",
    "# Load tensors\n",
    "predictions = torch.load(\"test_predictions_tensor.pt\")\n",
    "input_images = torch.load(\"test_input_images_tensor.pt\")\n",
    "target_images = torch.load(\"test_target_images_tensor.pt\")\n",
    "\n",
    "# Sum along dimension 0\n",
    "summed_predictions = predictions.sum(dim=0)\n",
    "summed_input_images = input_images.sum(dim=0)\n",
    "summed_target_images = target_images.sum(dim=0)\n",
    "\n",
    "# Plot the results\n",
    "fig, ax = plt.subplots(1, 3, figsize=(18, 6))\n",
    "\n",
    "# Plot summed input images\n",
    "ax[0].imshow(summed_input_images.numpy(), cmap='gray')\n",
    "ax[0].set_title(\"Summed Input Images\")\n",
    "ax[0].axis(\"off\")\n",
    "\n",
    "# Plot summed target images\n",
    "ax[1].imshow(summed_target_images.numpy(), cmap='gray')\n",
    "ax[1].set_title(\"Summed Target Images\")\n",
    "ax[1].axis(\"off\")\n",
    "\n",
    "# Plot summed predictions\n",
    "ax[2].imshow(summed_predictions.numpy(), cmap='gray')\n",
    "ax[2].set_title(\"Summed Predictions\")\n",
    "ax[2].axis(\"off\")\n",
    "\n",
    "plt.show()\n"
   ]
  },
  {
   "cell_type": "code",
   "execution_count": null,
   "metadata": {},
   "outputs": [],
   "source": []
  }
 ],
 "metadata": {
  "kernelspec": {
   "display_name": "Python 3 (ipykernel)",
   "language": "python",
   "name": "python3"
  },
  "language_info": {
   "codemirror_mode": {
    "name": "ipython",
    "version": 3
   },
   "file_extension": ".py",
   "mimetype": "text/x-python",
   "name": "python",
   "nbconvert_exporter": "python",
   "pygments_lexer": "ipython3",
   "version": "3.8.8"
  }
 },
 "nbformat": 4,
 "nbformat_minor": 4
}
