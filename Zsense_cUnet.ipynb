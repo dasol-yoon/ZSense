{
 "cells": [
  {
   "cell_type": "code",
   "execution_count": 11,
   "metadata": {},
   "outputs": [
    {
     "name": "stdout",
     "output_type": "stream",
     "text": [
      "Input tensor shape: torch.Size([883, 64, 64])\n",
      "Output tensor shape: torch.Size([883, 64, 64])\n",
      "Label tensor shape: torch.Size([883])\n"
     ]
    }
   ],
   "source": [
    "import numpy as np\n",
    "import h5py\n",
    "import matplotlib\n",
    "import torch.nn as nn\n",
    "import torchvision\n",
    "from torch.nn import Module\n",
    "from torchvision import datasets, models, transforms\n",
    "import torch.nn.functional as F\n",
    "import numpy as np\n",
    "import matplotlib.pyplot as plt\n",
    "import glob\n",
    "import pickle\n",
    "\n",
    "import torch\n",
    "import torch.nn as nn\n",
    "import torch.nn.functional as F\n",
    "from torch.utils.data import DataLoader, Dataset, random_split\n",
    "import os\n",
    "\n",
    "\n",
    "# Load .npy file using numpy\n",
    "input_dir = \"/media/muller_group/dm852_ExPro/ZSense/shared_hackathon/test/z1_4_33-x01.04-y00.82_noTDS_df0nm_conv30mrad_samp0p1A_step0p2A_thickness24uc.hdf5\"\n",
    "output_dir = \"/media/muller_group/dm852_ExPro/ZSense/shared_hackathon/test/z1_4_33-x01.04-y00.82_TDS64iso_df0nm_conv30mrad_samp0p1A_step0p2A_thickness24uc.hdf5\"\n",
    "label_dir = \"/media/muller_group/dm852_ExPro/ZSense/shared_hackathon/test_Z_map/z1_4_33-x01.04-y00.82.npy\"\n",
    "\n",
    "tempNoT = h5py.File(input_dir, 'r')\n",
    "input_data = tempNoT['array'][:]  # Shape (batch_size, channels, height, width)\n",
    "\n",
    "tempTDS = h5py.File(output_dir, 'r')\n",
    "output_data = tempTDS['array'][:]  # Shape (batch_size, channels, height, width)\n",
    "\n",
    "label_data = np.load(label_dir)  # Shape (batch_size, label_dim)\n",
    "\n",
    "mask = label_data>0.1\n",
    "\n",
    "# Convert numpy arrays to PyTorch tensors\n",
    "input_tensor = torch.tensor(input_data[mask], dtype=torch.float32)\n",
    "output_tensor = torch.tensor(output_data[mask], dtype=torch.float32)\n",
    "label_tensor = torch.tensor(label_data[mask], dtype=torch.float32)\n",
    "label_tensor.fill_(0)\n",
    "\n",
    "# Check shapes\n",
    "print(f\"Input tensor shape: {input_tensor.shape}\")\n",
    "print(f\"Output tensor shape: {output_tensor.shape}\")\n",
    "print(f\"Label tensor shape: {label_tensor.shape}\")\n"
   ]
  },
  {
   "cell_type": "code",
   "execution_count": 12,
   "metadata": {},
   "outputs": [
    {
     "name": "stdout",
     "output_type": "stream",
     "text": [
      "Input tensor shape: torch.Size([883, 64, 64])\n",
      "Output tensor shape: torch.Size([883, 64, 64])\n",
      "Label tensor shape: torch.Size([883])\n"
     ]
    }
   ],
   "source": [
    "# Check shapes\n",
    "print(f\"Input tensor shape: {input_tensor.shape}\")\n",
    "print(f\"Output tensor shape: {output_tensor.shape}\")\n",
    "print(f\"Label tensor shape: {label_tensor.shape}\")"
   ]
  },
  {
   "cell_type": "code",
   "execution_count": 15,
   "metadata": {},
   "outputs": [],
   "source": [
    "# plt.imshow(input_tensor[5,5,:,:])"
   ]
  },
  {
   "cell_type": "code",
   "execution_count": 16,
   "metadata": {},
   "outputs": [],
   "source": [
    "# plt.imshow(input_tensor[:,32,32])"
   ]
  },
  {
   "cell_type": "code",
   "execution_count": 17,
   "metadata": {},
   "outputs": [],
   "source": [
    "# plt.imshow(output_tensor[:,:,32,32])"
   ]
  },
  {
   "cell_type": "code",
   "execution_count": 18,
   "metadata": {},
   "outputs": [],
   "source": [
    "# plt.imshow(label_tensor>0.1)\n",
    "# plt.colorbar()"
   ]
  },
  {
   "cell_type": "code",
   "execution_count": 19,
   "metadata": {},
   "outputs": [],
   "source": [
    "import torch\n",
    "import torch.nn as nn\n",
    "import torch.nn.functional as F\n",
    "\n",
    "class ConditionalUNet(nn.Module):\n",
    "    def __init__(self, img_channels=1, label_dim=1, output_channels=1):\n",
    "        super(ConditionalUNet, self).__init__()\n",
    "\n",
    "        # Encoder\n",
    "        self.enc1 = self.conv_block(img_channels + label_dim, 64)\n",
    "        self.enc2 = self.conv_block(64, 128)\n",
    "        self.enc3 = self.conv_block(128, 256)\n",
    "\n",
    "        # Bottleneck\n",
    "        self.bottleneck = self.conv_block(256, 512)\n",
    "\n",
    "        # Decoder\n",
    "        self.dec3 = self.upconv_block(512 + 256, 256)\n",
    "        self.dec2 = self.upconv_block(256 + 128, 128)\n",
    "        self.dec1 = self.upconv_block(128 + 64, 64)\n",
    "\n",
    "        # Final Output Layer\n",
    "        self.final = nn.Conv2d(64, output_channels, kernel_size=1)\n",
    "\n",
    "    def conv_block(self, in_channels, out_channels):\n",
    "        \"\"\"Convolutional block with two Conv2D layers and ReLU.\"\"\"\n",
    "        return nn.Sequential(\n",
    "            nn.Conv2d(in_channels, out_channels, kernel_size=3, padding=1),\n",
    "            nn.ReLU(inplace=True),\n",
    "            nn.Conv2d(out_channels, out_channels, kernel_size=3, padding=1),\n",
    "            nn.ReLU(inplace=True)\n",
    "        )\n",
    "\n",
    "    def upconv_block(self, in_channels, out_channels):\n",
    "        \"\"\"Upsampling block with ConvTranspose2D and Conv2D.\"\"\"\n",
    "        return nn.Sequential(\n",
    "            nn.ConvTranspose2d(in_channels, out_channels, kernel_size=2, stride=2),\n",
    "            self.conv_block(out_channels, out_channels)\n",
    "        )\n",
    "\n",
    "    def forward(self, img, label):\n",
    "        \"\"\"\n",
    "        Forward pass for Conditional U-Net.\n",
    "\n",
    "        Args:\n",
    "        img (Tensor): 2D diffraction pattern of shape (B, 1, 64, 64).\n",
    "        label (Tensor): Integer variable of shape (B, 1).\n",
    "\n",
    "        Returns:\n",
    "        Tensor: Generated 2D diffraction pattern of shape (B, 1, 64, 64).\n",
    "        \"\"\"\n",
    "        # Expand label to match the input image size\n",
    "        label_img = label.view(-1, 1, 1, 1).expand(-1, 1, img.shape[2], img.shape[3])\n",
    "\n",
    "        # Combine input and label\n",
    "        combined_input = torch.cat([img, label_img], dim=1)\n",
    "\n",
    "        # Encoder Path\n",
    "        enc1 = self.enc1(combined_input)\n",
    "        enc2 = self.enc2(F.max_pool2d(enc1, 2))\n",
    "        enc3 = self.enc3(F.max_pool2d(enc2, 2))\n",
    "\n",
    "        # Bottleneck\n",
    "        bottleneck = self.bottleneck(F.max_pool2d(enc3, 2))\n",
    "\n",
    "        # Decoder Path with Correct Interpolation\n",
    "        dec3 = self.dec3(torch.cat((F.interpolate(bottleneck, size=enc3.shape[2:], mode='bilinear', align_corners=False), enc3), dim=1))\n",
    "        dec2 = self.dec2(torch.cat((F.interpolate(dec3, size=enc2.shape[2:], mode='bilinear', align_corners=False), enc2), dim=1))\n",
    "        dec1 = self.dec1(torch.cat((F.interpolate(dec2, size=enc1.shape[2:], mode='bilinear', align_corners=False), enc1), dim=1))\n",
    "\n",
    "        # Final Output\n",
    "        final_output = self.final(dec1)\n",
    "\n",
    "        # Ensure Output Size Matches Target (64x64)\n",
    "        final_output = F.interpolate(final_output, size=(64, 64), mode='bilinear', align_corners=False)\n",
    "        return final_output\n"
   ]
  },
  {
   "cell_type": "code",
   "execution_count": 20,
   "metadata": {},
   "outputs": [],
   "source": [
    "import torch\n",
    "from torch.utils.data import DataLoader, Dataset\n",
    "\n",
    "# Corrected Dataset Class for 3D Data\n",
    "class CustomDataset(Dataset):\n",
    "    def __init__(self, input_data, label_data, output_data):\n",
    "        self.input_data = input_data  # Shape (N, 64, 64)\n",
    "        self.label_data = label_data  # Shape (N,)\n",
    "        self.output_data = output_data  # Shape (N, 64, 64)\n",
    "\n",
    "    def __len__(self):\n",
    "        return self.input_data.shape[0]\n",
    "\n",
    "    def __getitem__(self, idx):\n",
    "        # Extract image, label, and target\n",
    "        image = self.input_data[idx].unsqueeze(0)    # Shape (1, 64, 64)\n",
    "        label = self.label_data[idx].view(1)        # Shape (1,)\n",
    "        target = self.output_data[idx].unsqueeze(0) # Shape (1, 64, 64)\n",
    "\n",
    "        return image, label.float(), target\n",
    "\n",
    "\n",
    "\n",
    "# # Initialize Data\n",
    "# input_tensor = torch.randn(59, 59, 64, 64)   # Example input\n",
    "# label_tensor = torch.randint(0, 5, (59, 59)) # Example labels (integers)\n",
    "# output_tensor = torch.randn(59, 59, 64, 64)  # Example target output\n",
    "\n",
    "# Create Dataset and DataLoader\n",
    "dataset = CustomDataset(input_tensor, label_tensor, output_tensor)\n",
    "dataloader = DataLoader(dataset, batch_size=8, shuffle=True)\n"
   ]
  },
  {
   "cell_type": "code",
   "execution_count": 21,
   "metadata": {},
   "outputs": [
    {
     "name": "stdout",
     "output_type": "stream",
     "text": [
      "Using device: cuda\n"
     ]
    },
    {
     "name": "stderr",
     "output_type": "stream",
     "text": [
      "Epoch [1/50]: 100%|██████████| 89/89 [00:02<00:00, 32.64it/s, loss=3.66e-5] \n"
     ]
    },
    {
     "name": "stdout",
     "output_type": "stream",
     "text": [
      "Epoch [1], Train Loss: 0.0013, Test Loss: 0.0000\n"
     ]
    },
    {
     "name": "stderr",
     "output_type": "stream",
     "text": [
      "Epoch [2/50]: 100%|██████████| 89/89 [00:02<00:00, 35.01it/s, loss=6.89e-6]\n"
     ]
    },
    {
     "name": "stdout",
     "output_type": "stream",
     "text": [
      "Epoch [2], Train Loss: 0.0000, Test Loss: 0.0000\n"
     ]
    },
    {
     "name": "stderr",
     "output_type": "stream",
     "text": [
      "Epoch [3/50]: 100%|██████████| 89/89 [00:02<00:00, 35.20it/s, loss=2.85e-7]\n"
     ]
    },
    {
     "name": "stdout",
     "output_type": "stream",
     "text": [
      "Epoch [3], Train Loss: 0.0000, Test Loss: 0.0000\n"
     ]
    },
    {
     "name": "stderr",
     "output_type": "stream",
     "text": [
      "Epoch [4/50]: 100%|██████████| 89/89 [00:02<00:00, 35.07it/s, loss=2.35e-7]\n"
     ]
    },
    {
     "name": "stdout",
     "output_type": "stream",
     "text": [
      "Epoch [4], Train Loss: 0.0000, Test Loss: 0.0000\n"
     ]
    },
    {
     "name": "stderr",
     "output_type": "stream",
     "text": [
      "Epoch [5/50]: 100%|██████████| 89/89 [00:02<00:00, 34.91it/s, loss=1.78e-7]\n"
     ]
    },
    {
     "name": "stdout",
     "output_type": "stream",
     "text": [
      "Epoch [5], Train Loss: 0.0000, Test Loss: 0.0000\n"
     ]
    },
    {
     "name": "stderr",
     "output_type": "stream",
     "text": [
      "Epoch [6/50]: 100%|██████████| 89/89 [00:02<00:00, 35.04it/s, loss=1.69e-7]\n"
     ]
    },
    {
     "name": "stdout",
     "output_type": "stream",
     "text": [
      "Epoch [6], Train Loss: 0.0000, Test Loss: 0.0000\n"
     ]
    },
    {
     "name": "stderr",
     "output_type": "stream",
     "text": [
      "Epoch [7/50]: 100%|██████████| 89/89 [00:02<00:00, 34.55it/s, loss=1.32e-7]\n"
     ]
    },
    {
     "name": "stdout",
     "output_type": "stream",
     "text": [
      "Epoch [7], Train Loss: 0.0000, Test Loss: 0.0000\n"
     ]
    },
    {
     "name": "stderr",
     "output_type": "stream",
     "text": [
      "Epoch [8/50]: 100%|██████████| 89/89 [00:02<00:00, 34.90it/s, loss=1.24e-7]\n"
     ]
    },
    {
     "name": "stdout",
     "output_type": "stream",
     "text": [
      "Epoch [8], Train Loss: 0.0000, Test Loss: 0.0000\n"
     ]
    },
    {
     "name": "stderr",
     "output_type": "stream",
     "text": [
      "Epoch [9/50]: 100%|██████████| 89/89 [00:02<00:00, 34.78it/s, loss=1.19e-7]\n"
     ]
    },
    {
     "name": "stdout",
     "output_type": "stream",
     "text": [
      "Epoch [9], Train Loss: 0.0000, Test Loss: 0.0000\n"
     ]
    },
    {
     "name": "stderr",
     "output_type": "stream",
     "text": [
      "Epoch [10/50]: 100%|██████████| 89/89 [00:02<00:00, 34.80it/s, loss=9.72e-8]\n"
     ]
    },
    {
     "name": "stdout",
     "output_type": "stream",
     "text": [
      "Epoch [10], Train Loss: 0.0000, Test Loss: 0.0000\n"
     ]
    },
    {
     "name": "stderr",
     "output_type": "stream",
     "text": [
      "Epoch [11/50]: 100%|██████████| 89/89 [00:02<00:00, 34.80it/s, loss=8.29e-8]\n"
     ]
    },
    {
     "name": "stdout",
     "output_type": "stream",
     "text": [
      "Epoch [11], Train Loss: 0.0000, Test Loss: 0.0000\n"
     ]
    },
    {
     "name": "stderr",
     "output_type": "stream",
     "text": [
      "Epoch [12/50]: 100%|██████████| 89/89 [00:02<00:00, 34.69it/s, loss=8.88e-8]\n"
     ]
    },
    {
     "name": "stdout",
     "output_type": "stream",
     "text": [
      "Epoch [12], Train Loss: 0.0000, Test Loss: 0.0000\n"
     ]
    },
    {
     "name": "stderr",
     "output_type": "stream",
     "text": [
      "Epoch [13/50]: 100%|██████████| 89/89 [00:02<00:00, 34.61it/s, loss=8.49e-8]\n"
     ]
    },
    {
     "name": "stdout",
     "output_type": "stream",
     "text": [
      "Epoch [13], Train Loss: 0.0000, Test Loss: 0.0000\n"
     ]
    },
    {
     "name": "stderr",
     "output_type": "stream",
     "text": [
      "Epoch [14/50]: 100%|██████████| 89/89 [00:02<00:00, 34.39it/s, loss=8.51e-8]\n"
     ]
    },
    {
     "name": "stdout",
     "output_type": "stream",
     "text": [
      "Epoch [14], Train Loss: 0.0000, Test Loss: 0.0000\n"
     ]
    },
    {
     "name": "stderr",
     "output_type": "stream",
     "text": [
      "Epoch [15/50]: 100%|██████████| 89/89 [00:02<00:00, 34.50it/s, loss=9.02e-8]\n"
     ]
    },
    {
     "name": "stdout",
     "output_type": "stream",
     "text": [
      "Epoch [15], Train Loss: 0.0000, Test Loss: 0.0000\n"
     ]
    },
    {
     "name": "stderr",
     "output_type": "stream",
     "text": [
      "Epoch [16/50]: 100%|██████████| 89/89 [00:02<00:00, 34.44it/s, loss=6.86e-8]\n"
     ]
    },
    {
     "name": "stdout",
     "output_type": "stream",
     "text": [
      "Epoch [16], Train Loss: 0.0000, Test Loss: 0.0000\n"
     ]
    },
    {
     "name": "stderr",
     "output_type": "stream",
     "text": [
      "Epoch [17/50]: 100%|██████████| 89/89 [00:02<00:00, 34.55it/s, loss=7.87e-8]\n"
     ]
    },
    {
     "name": "stdout",
     "output_type": "stream",
     "text": [
      "Epoch [17], Train Loss: 0.0000, Test Loss: 0.0000\n"
     ]
    },
    {
     "name": "stderr",
     "output_type": "stream",
     "text": [
      "Epoch [18/50]: 100%|██████████| 89/89 [00:02<00:00, 34.56it/s, loss=7.98e-8]\n"
     ]
    },
    {
     "name": "stdout",
     "output_type": "stream",
     "text": [
      "Epoch [18], Train Loss: 0.0000, Test Loss: 0.0000\n"
     ]
    },
    {
     "name": "stderr",
     "output_type": "stream",
     "text": [
      "Epoch [19/50]: 100%|██████████| 89/89 [00:02<00:00, 34.35it/s, loss=6.56e-8]\n"
     ]
    },
    {
     "name": "stdout",
     "output_type": "stream",
     "text": [
      "Epoch [19], Train Loss: 0.0000, Test Loss: 0.0000\n"
     ]
    },
    {
     "name": "stderr",
     "output_type": "stream",
     "text": [
      "Epoch [20/50]: 100%|██████████| 89/89 [00:02<00:00, 34.45it/s, loss=7.43e-8]\n"
     ]
    },
    {
     "name": "stdout",
     "output_type": "stream",
     "text": [
      "Epoch [20], Train Loss: 0.0000, Test Loss: 0.0000\n"
     ]
    },
    {
     "name": "stderr",
     "output_type": "stream",
     "text": [
      "Epoch [21/50]: 100%|██████████| 89/89 [00:02<00:00, 34.22it/s, loss=7.61e-8]\n"
     ]
    },
    {
     "name": "stdout",
     "output_type": "stream",
     "text": [
      "Epoch [21], Train Loss: 0.0000, Test Loss: 0.0000\n"
     ]
    },
    {
     "name": "stderr",
     "output_type": "stream",
     "text": [
      "Epoch [22/50]: 100%|██████████| 89/89 [00:02<00:00, 34.54it/s, loss=6.11e-8]\n"
     ]
    },
    {
     "name": "stdout",
     "output_type": "stream",
     "text": [
      "Epoch [22], Train Loss: 0.0000, Test Loss: 0.0000\n"
     ]
    },
    {
     "name": "stderr",
     "output_type": "stream",
     "text": [
      "Epoch [23/50]: 100%|██████████| 89/89 [00:02<00:00, 34.35it/s, loss=6.07e-8]\n"
     ]
    },
    {
     "name": "stdout",
     "output_type": "stream",
     "text": [
      "Epoch [23], Train Loss: 0.0000, Test Loss: 0.0000\n"
     ]
    },
    {
     "name": "stderr",
     "output_type": "stream",
     "text": [
      "Epoch [24/50]: 100%|██████████| 89/89 [00:02<00:00, 34.63it/s, loss=7.05e-8]\n"
     ]
    },
    {
     "name": "stdout",
     "output_type": "stream",
     "text": [
      "Epoch [24], Train Loss: 0.0000, Test Loss: 0.0000\n"
     ]
    },
    {
     "name": "stderr",
     "output_type": "stream",
     "text": [
      "Epoch [25/50]: 100%|██████████| 89/89 [00:02<00:00, 34.65it/s, loss=7.85e-8]\n"
     ]
    },
    {
     "name": "stdout",
     "output_type": "stream",
     "text": [
      "Epoch [25], Train Loss: 0.0000, Test Loss: 0.0000\n"
     ]
    },
    {
     "name": "stderr",
     "output_type": "stream",
     "text": [
      "Epoch [26/50]: 100%|██████████| 89/89 [00:02<00:00, 34.18it/s, loss=7.41e-8]\n"
     ]
    },
    {
     "name": "stdout",
     "output_type": "stream",
     "text": [
      "Epoch [26], Train Loss: 0.0000, Test Loss: 0.0000\n"
     ]
    },
    {
     "name": "stderr",
     "output_type": "stream",
     "text": [
      "Epoch [27/50]: 100%|██████████| 89/89 [00:02<00:00, 34.31it/s, loss=5.85e-8]\n"
     ]
    },
    {
     "name": "stdout",
     "output_type": "stream",
     "text": [
      "Epoch [27], Train Loss: 0.0000, Test Loss: 0.0000\n"
     ]
    },
    {
     "name": "stderr",
     "output_type": "stream",
     "text": [
      "Epoch [28/50]: 100%|██████████| 89/89 [00:02<00:00, 33.98it/s, loss=8.17e-8]\n"
     ]
    },
    {
     "name": "stdout",
     "output_type": "stream",
     "text": [
      "Epoch [28], Train Loss: 0.0000, Test Loss: 0.0000\n"
     ]
    },
    {
     "name": "stderr",
     "output_type": "stream",
     "text": [
      "Epoch [29/50]: 100%|██████████| 89/89 [00:02<00:00, 33.70it/s, loss=5.13e-8]\n"
     ]
    },
    {
     "name": "stdout",
     "output_type": "stream",
     "text": [
      "Epoch [29], Train Loss: 0.0000, Test Loss: 0.0000\n"
     ]
    },
    {
     "name": "stderr",
     "output_type": "stream",
     "text": [
      "Epoch [30/50]: 100%|██████████| 89/89 [00:02<00:00, 34.04it/s, loss=5.97e-8]\n"
     ]
    },
    {
     "name": "stdout",
     "output_type": "stream",
     "text": [
      "Epoch [30], Train Loss: 0.0000, Test Loss: 0.0000\n"
     ]
    },
    {
     "name": "stderr",
     "output_type": "stream",
     "text": [
      "Epoch [31/50]: 100%|██████████| 89/89 [00:02<00:00, 34.36it/s, loss=6.41e-8]\n"
     ]
    },
    {
     "name": "stdout",
     "output_type": "stream",
     "text": [
      "Epoch [31], Train Loss: 0.0000, Test Loss: 0.0000\n"
     ]
    },
    {
     "name": "stderr",
     "output_type": "stream",
     "text": [
      "Epoch [32/50]: 100%|██████████| 89/89 [00:02<00:00, 34.34it/s, loss=5.37e-8]\n"
     ]
    },
    {
     "name": "stdout",
     "output_type": "stream",
     "text": [
      "Epoch [32], Train Loss: 0.0000, Test Loss: 0.0000\n"
     ]
    },
    {
     "name": "stderr",
     "output_type": "stream",
     "text": [
      "Epoch [33/50]: 100%|██████████| 89/89 [00:02<00:00, 34.25it/s, loss=6.71e-8]\n"
     ]
    },
    {
     "name": "stdout",
     "output_type": "stream",
     "text": [
      "Epoch [33], Train Loss: 0.0000, Test Loss: 0.0000\n"
     ]
    },
    {
     "name": "stderr",
     "output_type": "stream",
     "text": [
      "Epoch [34/50]: 100%|██████████| 89/89 [00:02<00:00, 33.80it/s, loss=7.56e-8]\n"
     ]
    },
    {
     "name": "stdout",
     "output_type": "stream",
     "text": [
      "Epoch [34], Train Loss: 0.0000, Test Loss: 0.0000\n"
     ]
    },
    {
     "name": "stderr",
     "output_type": "stream",
     "text": [
      "Epoch [35/50]: 100%|██████████| 89/89 [00:02<00:00, 33.93it/s, loss=5.16e-8]\n"
     ]
    },
    {
     "name": "stdout",
     "output_type": "stream",
     "text": [
      "Epoch [35], Train Loss: 0.0000, Test Loss: 0.0000\n"
     ]
    },
    {
     "name": "stderr",
     "output_type": "stream",
     "text": [
      "Epoch [36/50]: 100%|██████████| 89/89 [00:02<00:00, 33.71it/s, loss=7.02e-8]\n"
     ]
    },
    {
     "name": "stdout",
     "output_type": "stream",
     "text": [
      "Epoch [36], Train Loss: 0.0000, Test Loss: 0.0000\n"
     ]
    },
    {
     "name": "stderr",
     "output_type": "stream",
     "text": [
      "Epoch [37/50]: 100%|██████████| 89/89 [00:02<00:00, 34.11it/s, loss=6.63e-8]\n"
     ]
    },
    {
     "name": "stdout",
     "output_type": "stream",
     "text": [
      "Epoch [37], Train Loss: 0.0000, Test Loss: 0.0000\n"
     ]
    },
    {
     "name": "stderr",
     "output_type": "stream",
     "text": [
      "Epoch [38/50]: 100%|██████████| 89/89 [00:02<00:00, 34.14it/s, loss=5.89e-8]\n"
     ]
    },
    {
     "name": "stdout",
     "output_type": "stream",
     "text": [
      "Epoch [38], Train Loss: 0.0000, Test Loss: 0.0000\n"
     ]
    },
    {
     "name": "stderr",
     "output_type": "stream",
     "text": [
      "Epoch [39/50]: 100%|██████████| 89/89 [00:02<00:00, 33.53it/s, loss=5.41e-8]\n"
     ]
    },
    {
     "name": "stdout",
     "output_type": "stream",
     "text": [
      "Epoch [39], Train Loss: 0.0000, Test Loss: 0.0000\n"
     ]
    },
    {
     "name": "stderr",
     "output_type": "stream",
     "text": [
      "Epoch [40/50]: 100%|██████████| 89/89 [00:02<00:00, 34.43it/s, loss=5.06e-8]\n"
     ]
    },
    {
     "name": "stdout",
     "output_type": "stream",
     "text": [
      "Epoch [40], Train Loss: 0.0000, Test Loss: 0.0000\n"
     ]
    },
    {
     "name": "stderr",
     "output_type": "stream",
     "text": [
      "Epoch [41/50]: 100%|██████████| 89/89 [00:02<00:00, 34.19it/s, loss=6.18e-8]\n"
     ]
    },
    {
     "name": "stdout",
     "output_type": "stream",
     "text": [
      "Epoch [41], Train Loss: 0.0000, Test Loss: 0.0000\n"
     ]
    },
    {
     "name": "stderr",
     "output_type": "stream",
     "text": [
      "Epoch [42/50]: 100%|██████████| 89/89 [00:02<00:00, 34.06it/s, loss=6.76e-8]\n"
     ]
    },
    {
     "name": "stdout",
     "output_type": "stream",
     "text": [
      "Epoch [42], Train Loss: 0.0000, Test Loss: 0.0000\n"
     ]
    },
    {
     "name": "stderr",
     "output_type": "stream",
     "text": [
      "Epoch [43/50]: 100%|██████████| 89/89 [00:02<00:00, 33.89it/s, loss=6.43e-8]\n"
     ]
    },
    {
     "name": "stdout",
     "output_type": "stream",
     "text": [
      "Epoch [43], Train Loss: 0.0000, Test Loss: 0.0000\n"
     ]
    },
    {
     "name": "stderr",
     "output_type": "stream",
     "text": [
      "Epoch [44/50]: 100%|██████████| 89/89 [00:02<00:00, 34.12it/s, loss=6.07e-8]\n"
     ]
    },
    {
     "name": "stdout",
     "output_type": "stream",
     "text": [
      "Epoch [44], Train Loss: 0.0000, Test Loss: 0.0000\n"
     ]
    },
    {
     "name": "stderr",
     "output_type": "stream",
     "text": [
      "Epoch [45/50]: 100%|██████████| 89/89 [00:02<00:00, 34.21it/s, loss=5.17e-8]\n"
     ]
    },
    {
     "name": "stdout",
     "output_type": "stream",
     "text": [
      "Epoch [45], Train Loss: 0.0000, Test Loss: 0.0000\n"
     ]
    },
    {
     "name": "stderr",
     "output_type": "stream",
     "text": [
      "Epoch [46/50]: 100%|██████████| 89/89 [00:02<00:00, 33.62it/s, loss=5.13e-8]\n"
     ]
    },
    {
     "name": "stdout",
     "output_type": "stream",
     "text": [
      "Epoch [46], Train Loss: 0.0000, Test Loss: 0.0000\n"
     ]
    },
    {
     "name": "stderr",
     "output_type": "stream",
     "text": [
      "Epoch [47/50]: 100%|██████████| 89/89 [00:02<00:00, 34.24it/s, loss=1.6e-7] \n"
     ]
    },
    {
     "name": "stdout",
     "output_type": "stream",
     "text": [
      "Epoch [47], Train Loss: 0.0000, Test Loss: 0.0000\n"
     ]
    },
    {
     "name": "stderr",
     "output_type": "stream",
     "text": [
      "Epoch [48/50]: 100%|██████████| 89/89 [00:02<00:00, 34.22it/s, loss=6.06e-8]\n"
     ]
    },
    {
     "name": "stdout",
     "output_type": "stream",
     "text": [
      "Epoch [48], Train Loss: 0.0000, Test Loss: 0.0000\n"
     ]
    },
    {
     "name": "stderr",
     "output_type": "stream",
     "text": [
      "Epoch [49/50]: 100%|██████████| 89/89 [00:02<00:00, 34.15it/s, loss=4.79e-8]\n"
     ]
    },
    {
     "name": "stdout",
     "output_type": "stream",
     "text": [
      "Epoch [49], Train Loss: 0.0000, Test Loss: 0.0000\n"
     ]
    },
    {
     "name": "stderr",
     "output_type": "stream",
     "text": [
      "Epoch [50/50]: 100%|██████████| 89/89 [00:02<00:00, 33.87it/s, loss=5.16e-8]\n"
     ]
    },
    {
     "name": "stdout",
     "output_type": "stream",
     "text": [
      "Epoch [50], Train Loss: 0.0000, Test Loss: 0.0000\n"
     ]
    },
    {
     "data": {
      "image/png": "[encoded data removed]",
      "text/plain": [
       "<Figure size 1000x600 with 1 Axes>"
      ]
     },
     "metadata": {},
     "output_type": "display_data"
    }
   ],
   "source": [
    "import torch\n",
    "import torch.nn as nn\n",
    "import torch.optim as optim\n",
    "from torch.utils.data import DataLoader, random_split\n",
    "import matplotlib.pyplot as plt\n",
    "from tqdm import tqdm\n",
    "\n",
    "# Check for GPU availability\n",
    "device = torch.device(\"cuda\" if torch.cuda.is_available() else \"cpu\")\n",
    "print(f\"Using device: {device}\")\n",
    "\n",
    "# Initialize Model, Loss, and Optimizer\n",
    "model = ConditionalUNet().to(device)\n",
    "criterion = nn.MSELoss()\n",
    "optimizer = optim.Adam(model.parameters(), lr=1e-4)\n",
    "\n",
    "# Split Dataset into Training and Testing Sets (80:20)\n",
    "train_size = int(0.8 * len(dataset))\n",
    "test_size = len(dataset) - train_size\n",
    "train_dataset, test_dataset = random_split(dataset, [train_size, test_size])\n",
    "\n",
    "# Create DataLoaders\n",
    "train_loader = DataLoader(train_dataset, batch_size=8, shuffle=True)\n",
    "test_loader = DataLoader(test_dataset, batch_size=8, shuffle=False)\n",
    "\n",
    "# Track Training and Testing Loss\n",
    "train_losses = []\n",
    "test_losses = []\n",
    "\n",
    "# Training Loop\n",
    "num_epochs = 50\n",
    "# Training Loop\n",
    "for epoch in range(num_epochs):\n",
    "    model.train()\n",
    "    running_train_loss = 0.0\n",
    "    \n",
    "    # Training Loop with Progress Bar\n",
    "    loop = tqdm(train_loader, total=len(train_loader), leave=True)\n",
    "    for image, label, target in loop:\n",
    "        # Move data to GPU\n",
    "        image, label, target = image.to(device), label.to(device), target.to(device)\n",
    "\n",
    "        optimizer.zero_grad()\n",
    "\n",
    "        # Forward pass\n",
    "        prediction = model(image, label)\n",
    "\n",
    "        # Calculate Loss and Backpropagation\n",
    "        loss = criterion(prediction, target)\n",
    "        loss.backward()\n",
    "        optimizer.step()\n",
    "\n",
    "        # Update Progress Bar\n",
    "        running_train_loss += loss.item()\n",
    "        loop.set_description(f\"Epoch [{epoch+1}/{num_epochs}]\")\n",
    "        loop.set_postfix(loss=loss.item())\n",
    "\n",
    "    # Average Training Loss\n",
    "    avg_train_loss = running_train_loss / len(train_loader)\n",
    "    train_losses.append(avg_train_loss)\n",
    "\n",
    "    # Evaluate on Test Set\n",
    "    model.eval()\n",
    "    running_test_loss = 0.0\n",
    "    with torch.no_grad():\n",
    "        for image, label, target in test_loader:\n",
    "            image, label, target = image.to(device), label.to(device), target.to(device)\n",
    "            prediction = model(image, label)\n",
    "\n",
    "            # Calculate Test Loss\n",
    "            test_loss = criterion(prediction, target)\n",
    "            running_test_loss += test_loss.item()\n",
    "\n",
    "    # Average Test Loss\n",
    "    avg_test_loss = running_test_loss / len(test_loader)\n",
    "    test_losses.append(avg_test_loss)\n",
    "    print(f\"Epoch [{epoch+1}], Train Loss: {avg_train_loss:.4f}, Test Loss: {avg_test_loss:.4f}\")\n",
    "\n",
    "\n",
    "# Plot Training and Testing Loss Curves with Log Scale\n",
    "plt.figure(figsize=(10, 6))\n",
    "plt.plot(range(1, num_epochs+1), train_losses, label='Training Loss', marker='o', color='b')\n",
    "plt.plot(range(1, num_epochs+1), test_losses, label='Testing Loss', marker='s', color='r')\n",
    "\n",
    "plt.title(\"Training and Testing Loss (Log Scale)\")\n",
    "plt.xlabel(\"Epoch\")\n",
    "plt.ylabel(\"Loss (Log Scale)\")\n",
    "plt.yscale('log')  # Apply log scale to y-axis\n",
    "plt.grid(True, which=\"both\", ls=\"--\")\n",
    "plt.legend()\n",
    "plt.show()\n",
    "\n"
   ]
  },
  {
   "cell_type": "code",
   "execution_count": 30,
   "metadata": {},
   "outputs": [
    {
     "name": "stderr",
     "output_type": "stream",
     "text": [
      "/tmp/ipykernel_510856/2397801689.py:9: UserWarning: To copy construct from a tensor, it is recommended to use sourceTensor.clone().detach() or sourceTensor.clone().detach().requires_grad_(True), rather than torch.tensor(sourceTensor).\n",
      "  sample_label = torch.tensor(label_tensor[idx], dtype=torch.float32, device=device).view(1, 1)  # Shape: (1, 1)\n"
     ]
    },
    {
     "data": {
      "image/png": "[encoded data removed]",
      "text/plain": [
       "<Figure size 1500x500 with 3 Axes>"
      ]
     },
     "metadata": {},
     "output_type": "display_data"
    }
   ],
   "source": [
    "# Switch model to evaluation mode\n",
    "model.eval()\n",
    "\n",
    "# Select specific input sample (Use single index)\n",
    "idx = 5  # Index in the reduced 3D dataset\n",
    "\n",
    "# Extract corresponding input, label, and target\n",
    "sample_input = input_tensor[idx].unsqueeze(0).unsqueeze(0).to(device)  # Shape: (1, 1, 64, 64)\n",
    "sample_label = torch.tensor(label_tensor[idx], dtype=torch.float32, device=device).view(1, 1)  # Shape: (1, 1)\n",
    "\n",
    "# Make a prediction\n",
    "with torch.no_grad():\n",
    "    prediction = model(sample_input, sample_label)\n",
    "    pred_img = prediction.squeeze().cpu().numpy()\n",
    "\n",
    "# Plot the images\n",
    "fig, ax = plt.subplots(1, 3, figsize=(15, 5))\n",
    "\n",
    "# Original Input\n",
    "ax[0].imshow(sample_input.squeeze().cpu().numpy(), cmap='gray')\n",
    "ax[0].set_title(\"Input Image\")\n",
    "\n",
    "# Ground Truth (Assuming output_tensor is available)\n",
    "target_img = output_tensor[idx].cpu().numpy()\n",
    "ax[1].imshow(target_img, cmap='gray')\n",
    "ax[1].set_title(\"Target Image\")\n",
    "\n",
    "# Predicted Output\n",
    "ax[2].imshow(pred_img, cmap='gray')\n",
    "ax[2].set_title(\"Predicted Image\")\n",
    "# fig.colorbar()\n",
    "\n",
    "plt.show()\n"
   ]
  },
  {
   "cell_type": "code",
   "execution_count": null,
   "metadata": {},
   "outputs": [],
   "source": []
  },
  {
   "cell_type": "code",
   "execution_count": null,
   "metadata": {},
   "outputs": [],
   "source": []
  },
  {
   "cell_type": "code",
   "execution_count": null,
   "metadata": {},
   "outputs": [],
   "source": []
  },
  {
   "cell_type": "code",
   "execution_count": null,
   "metadata": {},
   "outputs": [],
   "source": []
  }
 ],
 "metadata": {
  "kernelspec": {
   "display_name": "ronchi",
   "language": "python",
   "name": "python3"
  },
  "language_info": {
   "codemirror_mode": {
    "name": "ipython",
    "version": 3
   },
   "file_extension": ".py",
   "mimetype": "text/x-python",
   "name": "python",
   "nbconvert_exporter": "python",
   "pygments_lexer": "ipython3",
   "version": "3.8.8"
  }
 },
 "nbformat": 4,
 "nbformat_minor": 2
}
